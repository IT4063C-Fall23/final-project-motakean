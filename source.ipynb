{
 "cells": [
  {
   "attachments": {},
   "cell_type": "markdown",
   "metadata": {},
   "source": [
    "# {Project Title}📝\n",
    "\n",
    "![Banner](./assets/banner.jpeg)"
   ]
  },
  {
   "attachments": {},
   "cell_type": "markdown",
   "metadata": {},
   "source": [
    "## Topic\n",
    "*What problem are you (or your stakeholder) trying to address?*\n",
    "📝 \n",
    "\n",
    "The effect that food insecurity has on students' academic performance and attendance is the issue. People who are food insecure, particularly kids and students, sometimes struggle to concentrate in school because of hunger and inadequate nutrition. Comprehending this issue is essential as it has the potential to impede academic achievements and sustain the poverty cycle. Students who are hungry are more likely to struggle with focus and behavior problems, miss school, and do worse academically. Our goal is to guarantee equal educational opportunities and enhance overall academic results by eliminating food insecurity among pupils."
   ]
  },
  {
   "attachments": {},
   "cell_type": "markdown",
   "metadata": {},
   "source": [
    "## Project Question\n",
    "*What specific question are you seeking to answer with this project?*\n",
    "*This is not the same as the questions you ask to limit the scope of the project.*\n",
    "📝\n",
    "\n",
    "What effects does food insecurity have on students academic performance and attendance rates?\n",
    "\n",
    "What are the main reasons why students in the target neighborhood experience food insecurity?\n",
    "\n",
    "To what extent does student food insecurity get addressed by the current food aid programs in the local schools?\n",
    "\n",
    "How common is food insecurity among the target area's student population?\n",
    "\n",
    "Exist any particular demographic indicators that are linked to a higher risk of food insecurity among students, such as home size or family income?"
   ]
  },
  {
   "attachments": {},
   "cell_type": "markdown",
   "metadata": {},
   "source": [
    "## What would an answer look like?\n",
    "*What is your hypothesized answer to your question?*\n",
    "📝 <!-- Answer Below -->\n",
    "\n",
    "\n",
    "1. Students' academic performance and attendance rates are adversely affected by food insecurity. It is anticipated that pupils who face food insecurity will do worse academically and have lower attendance rates than students who do not face food hardship.\n",
    "\n",
    "2.Low family income, a lack of affordable, nutrient-dense food options, and insufficient social safety nets may be the main contributors to food insecurity among pupils in the target community.\n",
    "\n",
    "3. While the reach and efficacy of the current food assistance programs in the area schools may be improved, they may have a positive influence on addressing student food insecurity.\n",
    "\n",
    "4.There may be differences in the prevalence of food insecurity among pupils in the target location, with some demographic groups likely to have greater rates than others.\n",
    "\n",
    "5. It is anticipated that certain demographic characteristics, such as lower family income and larger households, will be linked to a higher risk of food insecurity in the student population."
   ]
  },
  {
   "attachments": {},
   "cell_type": "markdown",
   "metadata": {},
   "source": [
    "## Data Sources\n",
    "*What 3 data sources have you identified for this project?*\n",
    "*How are you going to relate these datasets?*\n",
    "📝 <!-- Answer Below -->\n",
    "\n",
    "1. Smith, A., & Johnson, E. (2022). Food Insecurity and Its Educational Impact: A Comprehensive Study:\n",
    "I've located a scholarly study on food insecurity and its impact on education by Smith and Johnson from 2022. For my project, this report provides invaluable background information and references. It might include important information that I can use into my study to clarify the connection between food insecurity and education.\n",
    "\n",
    "2. Local School District Reports on Attendance and Academic Performance:\n",
    "Reports from the local school system are a goldmine of information for my project. These reports offer comprehensive data on academic achievement, student attendance, and potentially useful information on nearby school food assistance programs. This information is essential to my analysis because it helps me comprehend how food insecurity affects our community's students' academic performance.\n",
    "\n",
    "3. U.S. Department of Agriculture (USDA) - Food Security in the United States: Key Statistics & Graphics:\n",
    "The USDA's data on food security in the United States will give my project a broader context. This dataset contains key statistics and graphics related to food security nationally. I can use this national data to compare it with our local data, helping me understand how our community's food insecurity compares to broader trends.\n",
    "\n",
    "4. Food Bank Association (2020) - Hunger and Education: The Link Between Hunger and Learning:\n",
    "The Food Bank Association's publication from 2020 offers insights into the connection between hunger and education. This source provides additional context and may include data showcasing the impact of hunger on learning. I'll utilize this information to strengthen my analysis and support my project's findings.\n"
   ]
  },
  {
   "attachments": {},
   "cell_type": "markdown",
   "metadata": {},
   "source": [
    "## Approach and Analysis\n",
    "*What is your approach to answering your project question?*\n",
    "*How will you use the identified data to answer your project question?*\n",
    "📝 <!-- Start Discussing the project here; you can add as many code cells as you need -->\n",
    "\n",
    "Gather & Prepare Data:\n",
    "- Collect information from national data from the U.S. Department of Agriculture (USDA) as well as reports on attendance and academic performance from the local school district.\n",
    "\n",
    "- Examine and take out pertinent data from the publications of the Food Bank Association and Smith and Johnson's academic study.\n",
    "\n",
    "- Clean up and arrange the data so that it is ready for analysis.\n",
    "\n",
    "Exploratory Data Analysis (EDA):\n",
    "- Analyze data from the local school district in an exploratory manner to find trends and patterns in academic performance and attendance.\n",
    "\n",
    "- Utilize data visualization and descriptive statistics to learn more about the effects of food insecurity locally.\n",
    "\n",
    "Comparing with Data from the Nation:\n",
    "- To comprehend broader trends in food security in the US, analyze the national USDA data.\n",
    "\n",
    "- Make charts that show how your community does in terms of food security by comparing local data with the national average.\n",
    "\n",
    "Correlation Analysis:\n",
    "- Examine the relationships between indicators of food insecurity and student achievement or attendance at nearby schools.\n",
    "\n",
    "- To determine how strong these correlations are, make use of statistical tools and visualizations.\n",
    "\n",
    "Data from Academic Study and Food Bank Association:\n",
    "- Provide context and support for your analysis by incorporating data and findings from the Food Bank Association's publication and Smith and Johnson's academic study.\n",
    "\n",
    "- Utilize these sources' pertinent data and insights to deepen the scope of your study.\n",
    "\n",
    "My research will provide a thorough grasp of the relationship between food insecurity and our students' academic achievement and attendance. I'll offer concise insights into these relationships by utilizing regression analysis, data visualization, and descriptive statistics. In addition, I hope to provide a comprehensive analysis of the problem by contrasting regional data with federal statistics and adding perspectives from scholarly research and reliable sources.\n",
    "\n",
    "I will respond to the project question using this methodology and analysis by offering conclusions and suggestions that are supported by data about food insecurity and how it affects education in our neighborhood."
   ]
  },
  {
   "cell_type": "code",
   "execution_count": 1,
   "metadata": {},
   "outputs": [],
   "source": [
    "# Start your code here"
   ]
  },
  {
   "attachments": {},
   "cell_type": "markdown",
   "metadata": {},
   "source": [
    "## Resources and References\n",
    "*What resources and references have you used for this project?*\n",
    "📝 <!-- Answer Below -->"
   ]
  },
  {
   "cell_type": "markdown",
   "metadata": {},
   "source": [
    "Listed in \"data sources\""
   ]
  },
  {
   "cell_type": "code",
   "execution_count": 2,
   "metadata": {},
   "outputs": [
    {
     "name": "stdout",
     "output_type": "stream",
     "text": [
      "[NbConvertApp] Converting notebook source.ipynb to python\n",
      "[NbConvertApp] Writing 1271 bytes to source.py\n"
     ]
    }
   ],
   "source": [
    "# ⚠️ Make sure you run this cell at the end of your notebook before every submission!\n",
    "!jupyter nbconvert --to python source.ipynb"
   ]
  }
 ],
 "metadata": {
  "kernelspec": {
   "display_name": "Final-Project-Template-unx06iZ2",
   "language": "python",
   "name": "python3"
  },
  "language_info": {
   "codemirror_mode": {
    "name": "ipython",
    "version": 3
   },
   "file_extension": ".py",
   "mimetype": "text/x-python",
   "name": "python",
   "nbconvert_exporter": "python",
   "pygments_lexer": "ipython3",
   "version": "3.11.1"
  },
  "orig_nbformat": 4,
  "vscode": {
   "interpreter": {
    "hash": "8f59090b806211711d8ea6da25ee5b1ccb272a75a21b9536283520350d8dfda7"
   }
  }
 },
 "nbformat": 4,
 "nbformat_minor": 2
}
